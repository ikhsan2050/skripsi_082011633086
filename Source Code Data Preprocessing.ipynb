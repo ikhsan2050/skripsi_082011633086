{
 "cells": [
  {
   "cell_type": "markdown",
   "metadata": {},
   "source": [
    "### IMPORT LIBRARY"
   ]
  },
  {
   "cell_type": "code",
   "execution_count": null,
   "metadata": {},
   "outputs": [],
   "source": [
    "import pandas as pd"
   ]
  },
  {
   "cell_type": "markdown",
   "metadata": {},
   "source": [
    "### IMPORT DATASET"
   ]
  },
  {
   "cell_type": "code",
   "execution_count": null,
   "metadata": {},
   "outputs": [],
   "source": [
    "data = pd.read_excel(\"Data_TBC_Jatim_2015-2022.xlsx\")\n",
    "pd.DataFrame(data)\n",
    "data"
   ]
  },
  {
   "cell_type": "code",
   "execution_count": null,
   "metadata": {},
   "outputs": [],
   "source": [
    "data.info()"
   ]
  },
  {
   "cell_type": "markdown",
   "metadata": {},
   "source": [
    "### SELECT VARIABLES"
   ]
  },
  {
   "cell_type": "code",
   "execution_count": null,
   "metadata": {},
   "outputs": [],
   "source": [
    "dataselected = data[['Jenis Kelamin', 'Kategori Umur', 'Status Pulang Peserta',\n",
    "                   'Segmen Peserta FKTP', 'Kelas Rawat', 'Segmen ICD 10',\n",
    "                   'Kab/Kota Tempat Tinggal Peserta', 'Tahun Meninggal']]\n",
    "dataselected"
   ]
  },
  {
   "cell_type": "markdown",
   "metadata": {},
   "source": [
    "### HANDLING MISSING VALUE"
   ]
  },
  {
   "cell_type": "code",
   "execution_count": null,
   "metadata": {},
   "outputs": [],
   "source": [
    "pd.isna(dataselected).sum()"
   ]
  },
  {
   "cell_type": "code",
   "execution_count": null,
   "metadata": {},
   "outputs": [],
   "source": [
    "# Fill 0 if Tahun Meinggal == null\n",
    "dataselected['Tahun Meninggal'].fillna(0, inplace=True)\n",
    "\n",
    "# Drop the rows that contain null values\n",
    "dataselected.dropna(inplace=True)\n",
    "\n",
    "# Drop the rows that Kelas Rawat is not 1, 2, or 3\n",
    "dataselected = dataselected[dataselected['Kelas Rawat'] != 9]\n",
    "\n",
    "# Drop the rows that Status Pulang Peserta is not 1, 2, or 3\n",
    "for i in range(5,8):\n",
    "    dataselected = dataselected[dataselected['Status Pulang Peserta'] != i]\n",
    "    \n",
    "# Drop rows that contain the died people\n",
    "dataselected = dataselected[dataselected['Tahun Meninggal'] == 0]\n",
    "dataselected = dataselected.astype({'Tahun Meninggal':int, 'Segmen ICD 10':int})\n",
    "dataselected.reset_index(drop=True, inplace=True)"
   ]
  },
  {
   "cell_type": "code",
   "execution_count": null,
   "metadata": {},
   "outputs": [],
   "source": [
    "dataselected = dataselected.iloc[:,0:7]\n",
    "dataselected"
   ]
  },
  {
   "cell_type": "markdown",
   "metadata": {},
   "source": [
    "### CONVERT TO CATEGORICAL DATA TYPE"
   ]
  },
  {
   "cell_type": "code",
   "execution_count": null,
   "metadata": {},
   "outputs": [],
   "source": [
    "datafix = dataselected.iloc[:,0:6]\n",
    "col_names = list(datafix)\n",
    "for col in col_names:\n",
    "    datafix[col] = datafix[col].astype('category', copy=False)\n",
    "datafix.describe()\n",
    "datafix.info()"
   ]
  },
  {
   "cell_type": "markdown",
   "metadata": {},
   "source": [
    "### EXPORT THE PREPORCESSED DATA"
   ]
  },
  {
   "cell_type": "code",
   "execution_count": null,
   "metadata": {},
   "outputs": [],
   "source": [
    "# Export data preprocessed with Kabupaten/Kota attribute\n",
    "# dataselected.to_excel('data_after_preprocessing_with_KabKot.xlsx', index=False)\n",
    "\n",
    "# Export 6 attrributes data preprocessed to K-Modes clustering\n",
    "# datafix.to_excel('data_after_preprocessing.xlsx', index=False)"
   ]
  }
 ],
 "metadata": {
  "kernelspec": {
   "display_name": "Python 3",
   "language": "python",
   "name": "python3"
  },
  "language_info": {
   "codemirror_mode": {
    "name": "ipython",
    "version": 3
   },
   "file_extension": ".py",
   "mimetype": "text/x-python",
   "name": "python",
   "nbconvert_exporter": "python",
   "pygments_lexer": "ipython3",
   "version": "3.11.3"
  }
 },
 "nbformat": 4,
 "nbformat_minor": 2
}
